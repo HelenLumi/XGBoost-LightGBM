{
  "nbformat": 4,
  "nbformat_minor": 0,
  "metadata": {
    "colab": {
      "provenance": [],
      "collapsed_sections": [],
      "authorship_tag": "ABX9TyM9pUrMi6l/bMv8lCT//Gc1",
      "include_colab_link": true
    },
    "kernelspec": {
      "name": "python3",
      "display_name": "Python 3"
    },
    "language_info": {
      "name": "python"
    },
    "gpuClass": "standard"
  },
  "cells": [
    {
      "cell_type": "markdown",
      "metadata": {
        "id": "view-in-github",
        "colab_type": "text"
      },
      "source": [
        "<a href=\"https://colab.research.google.com/github/HelenLumi/XGBoost-LightGBM/blob/main/Comparison_Task.ipynb\" target=\"_parent\"><img src=\"https://colab.research.google.com/assets/colab-badge.svg\" alt=\"Open In Colab\"/></a>"
      ]
    },
    {
      "cell_type": "markdown",
      "source": [
        "###Import Packages"
      ],
      "metadata": {
        "id": "V35wFp-Em2Wv"
      }
    },
    {
      "cell_type": "code",
      "source": [
        "import numpy as np\n",
        "import pandas as pd\n",
        "import matplotlib.pyplot as plt\n",
        "\n",
        "import time\n",
        "\n",
        "import lightgbm as lgb\n",
        "import xgboost as xgb\n",
        "\n",
        "from sklearn.datasets import load_svmlight_file\n",
        "from sklearn.model_selection import train_test_split\n",
        "from sklearn.metrics import ndcg_score\n",
        "from sklearn.metrics import roc_auc_score"
      ],
      "metadata": {
        "id": "XWELF2utMyAC"
      },
      "execution_count": null,
      "outputs": []
    },
    {
      "cell_type": "code",
      "source": [
        "!git clone --recursive https://github.com/Microsoft/LightGBM"
      ],
      "metadata": {
        "colab": {
          "base_uri": "https://localhost:8080/"
        },
        "id": "aMw4iKy76qmZ",
        "outputId": "6af79fbe-f41a-48bd-ddcb-39f9524ea6f9"
      },
      "execution_count": null,
      "outputs": [
        {
          "output_type": "stream",
          "name": "stdout",
          "text": [
            "Cloning into 'LightGBM'...\n",
            "remote: Enumerating objects: 27839, done.\u001b[K\n",
            "remote: Counting objects: 100% (4017/4017), done.\u001b[K\n",
            "remote: Compressing objects: 100% (496/496), done.\u001b[K\n",
            "remote: Total 27839 (delta 3733), reused 3655 (delta 3510), pack-reused 23822\u001b[K\n",
            "Receiving objects: 100% (27839/27839), 19.76 MiB | 15.71 MiB/s, done.\n",
            "Resolving deltas: 100% (20665/20665), done.\n",
            "Submodule 'include/boost/compute' (https://github.com/boostorg/compute) registered for path 'external_libs/compute'\n",
            "Submodule 'eigen' (https://gitlab.com/libeigen/eigen.git) registered for path 'external_libs/eigen'\n",
            "Submodule 'external_libs/fast_double_parser' (https://github.com/lemire/fast_double_parser.git) registered for path 'external_libs/fast_double_parser'\n",
            "Submodule 'external_libs/fmt' (https://github.com/fmtlib/fmt.git) registered for path 'external_libs/fmt'\n",
            "Cloning into '/content/LightGBM/external_libs/compute'...\n",
            "remote: Enumerating objects: 21733, done.        \n",
            "remote: Counting objects: 100% (5/5), done.        \n",
            "remote: Compressing objects: 100% (4/4), done.        \n",
            "remote: Total 21733 (delta 1), reused 3 (delta 1), pack-reused 21728        \n",
            "Receiving objects: 100% (21733/21733), 8.51 MiB | 4.29 MiB/s, done.\n",
            "Resolving deltas: 100% (17567/17567), done.\n",
            "Cloning into '/content/LightGBM/external_libs/eigen'...\n",
            "remote: Enumerating objects: 116912, done.        \n",
            "remote: Counting objects: 100% (6/6), done.        \n",
            "remote: Compressing objects: 100% (6/6), done.        \n",
            "remote: Total 116912 (delta 0), reused 5 (delta 0), pack-reused 116906        \n",
            "Receiving objects: 100% (116912/116912), 102.36 MiB | 14.55 MiB/s, done.\n",
            "Resolving deltas: 100% (96575/96575), done.\n",
            "Cloning into '/content/LightGBM/external_libs/fast_double_parser'...\n",
            "remote: Enumerating objects: 726, done.        \n",
            "remote: Counting objects: 100% (125/125), done.        \n",
            "remote: Compressing objects: 100% (33/33), done.        \n",
            "remote: Total 726 (delta 98), reused 97 (delta 88), pack-reused 601        \n",
            "Receiving objects: 100% (726/726), 821.43 KiB | 16.76 MiB/s, done.\n",
            "Resolving deltas: 100% (369/369), done.\n",
            "Cloning into '/content/LightGBM/external_libs/fmt'...\n",
            "remote: Enumerating objects: 30661, done.        \n",
            "remote: Counting objects: 100% (663/663), done.        \n",
            "remote: Compressing objects: 100% (122/122), done.        \n",
            "remote: Total 30661 (delta 579), reused 574 (delta 532), pack-reused 29998        \n",
            "Receiving objects: 100% (30661/30661), 14.54 MiB | 5.92 MiB/s, done.\n",
            "Resolving deltas: 100% (20720/20720), done.\n",
            "Submodule path 'external_libs/compute': checked out '36350b7de849300bd3d72a05d8bf890ca405a014'\n",
            "Submodule path 'external_libs/eigen': checked out '3147391d946bb4b6c68edd901f2add6ac1f31f8c'\n",
            "Submodule path 'external_libs/fast_double_parser': checked out 'ace60646c02dc54c57f19d644e49a61e7e7758ec'\n",
            "Submodule 'benchmark/dependencies/abseil-cpp' (https://github.com/abseil/abseil-cpp.git) registered for path 'external_libs/fast_double_parser/benchmarks/dependencies/abseil-cpp'\n",
            "Submodule 'benchmark/dependencies/double-conversion' (https://github.com/google/double-conversion.git) registered for path 'external_libs/fast_double_parser/benchmarks/dependencies/double-conversion'\n",
            "Cloning into '/content/LightGBM/external_libs/fast_double_parser/benchmarks/dependencies/abseil-cpp'...\n",
            "remote: Enumerating objects: 18357, done.        \n",
            "remote: Total 18357 (delta 0), reused 0 (delta 0), pack-reused 18357        \n",
            "Receiving objects: 100% (18357/18357), 11.45 MiB | 6.77 MiB/s, done.\n",
            "Resolving deltas: 100% (14276/14276), done.\n",
            "Cloning into '/content/LightGBM/external_libs/fast_double_parser/benchmarks/dependencies/double-conversion'...\n",
            "remote: Enumerating objects: 1352, done.        \n",
            "remote: Counting objects: 100% (196/196), done.        \n",
            "remote: Compressing objects: 100% (103/103), done.        \n",
            "remote: Total 1352 (delta 108), reused 156 (delta 86), pack-reused 1156        \n",
            "Receiving objects: 100% (1352/1352), 7.15 MiB | 2.45 MiB/s, done.\n",
            "Resolving deltas: 100% (880/880), done.\n",
            "Submodule path 'external_libs/fast_double_parser/benchmarks/dependencies/abseil-cpp': checked out 'd936052d32a5b7ca08b0199a6724724aea432309'\n",
            "Submodule path 'external_libs/fast_double_parser/benchmarks/dependencies/double-conversion': checked out 'f4cb2384efa55dee0e6652f8674b05763441ab09'\n",
            "Submodule path 'external_libs/fmt': checked out 'b6f4ceaed0a0a24ccf575fab6c56dd50ccf6f1a9'\n"
          ]
        }
      ]
    },
    {
      "cell_type": "markdown",
      "source": [
        "###Prepare data for training"
      ],
      "metadata": {
        "id": "J8_T6fE9npIK"
      }
    },
    {
      "cell_type": "code",
      "source": [
        "# Read the ranking data\n",
        "rank_data_dir_path = \"LightGBM/examples/lambdarank/\"\n",
        "rank_X_train_all, rank_y_train_all = load_svmlight_file(rank_data_dir_path + \"rank.train\")\n",
        "rank_X_test, rank_y_test = load_svmlight_file(rank_data_dir_path + \"rank.test\")\n",
        "rank_X_train_all.shape, rank_y_train_all.shape, rank_X_test.shape, rank_y_test.shape"
      ],
      "metadata": {
        "colab": {
          "base_uri": "https://localhost:8080/"
        },
        "id": "vetvqFis7D8B",
        "outputId": "0dd3547e-0c39-463d-b0c0-ed84b88d23f7"
      },
      "execution_count": null,
      "outputs": [
        {
          "output_type": "execute_result",
          "data": {
            "text/plain": [
              "((3005, 300), (3005,), (768, 300), (768,))"
            ]
          },
          "metadata": {},
          "execution_count": 3
        }
      ]
    },
    {
      "cell_type": "code",
      "source": [
        "# Read the query data\n",
        "q_train_all = np.loadtxt(rank_data_dir_path + \"rank.train.query\")\n",
        "q_test = np.loadtxt(rank_data_dir_path + \"rank.test.query\")\n",
        "q_train_all.shape, q_test.shape"
      ],
      "metadata": {
        "colab": {
          "base_uri": "https://localhost:8080/"
        },
        "id": "m2f3i-vjfPtr",
        "outputId": "f56b2602-4669-4ece-9992-6042f934d258"
      },
      "execution_count": null,
      "outputs": [
        {
          "output_type": "execute_result",
          "data": {
            "text/plain": [
              "((201,), (50,))"
            ]
          },
          "metadata": {},
          "execution_count": 4
        }
      ]
    },
    {
      "cell_type": "code",
      "source": [
        "# Take the cumulative sum of q_train to find the position that is 75% from the beginning\n",
        "q_train_cumsum = q_train_all.cumsum()\n",
        "q_idx = int(np.searchsorted(q_train_cumsum, q_train_all.sum() * 0.75))\n",
        "X_idx = int(q_train_cumsum[q_idx])\n",
        "# Split using the found position\n",
        "rank_X_train, rank_X_valid = rank_X_train_all[:X_idx], rank_X_train_all[X_idx:]\n",
        "rank_y_train, rank_y_valid = rank_y_train_all[:X_idx], rank_y_train_all[X_idx:]\n",
        "q_train, q_valid = q_train_all[:q_idx+1], q_train_all[q_idx+1:]\n",
        "rank_X_train.shape, rank_X_valid.shape, rank_y_train.shape, rank_y_valid.shape, q_train.sum(), q_valid.sum()"
      ],
      "metadata": {
        "colab": {
          "base_uri": "https://localhost:8080/"
        },
        "id": "Xb4RhqWtgQnh",
        "outputId": "2bd4c933-307d-44bf-f576-4b1e32c8b169"
      },
      "execution_count": null,
      "outputs": [
        {
          "output_type": "execute_result",
          "data": {
            "text/plain": [
              "((2258, 300), (747, 300), (2258,), (747,), 2258.0, 747.0)"
            ]
          },
          "metadata": {},
          "execution_count": 5
        }
      ]
    },
    {
      "cell_type": "code",
      "source": [
        "# Prepare classification dataset\n",
        "class_data_dir_path = \"LightGBM/examples/binary_classification/\"\n",
        "df_train = pd.read_csv(class_data_dir_path + \"binary.train\", sep='\\t', header=None)\n",
        "class_X_train_all = df_train.loc[:,1:]\n",
        "class_y_train_all = df_train.loc[:,0]\n",
        "\n",
        "class_X_train, class_X_valid, class_y_train, class_y_valid = train_test_split(class_X_train_all, class_y_train_all, test_size =0.2)\n",
        "\n",
        "df_test = pd.read_csv(class_data_dir_path + \"binary.test\", sep='\\t', header=None)\n",
        "class_X_test = df_test.loc[:,1:]\n",
        "class_y_test = df_test.loc[:,0]\n",
        "\n",
        "class_X_train.shape, class_y_train.shape, class_X_valid.shape, class_y_valid.shape, class_X_test.shape, class_y_test.shape"
      ],
      "metadata": {
        "colab": {
          "base_uri": "https://localhost:8080/"
        },
        "id": "72yVBkjaPpXQ",
        "outputId": "1ee50e9e-9e1c-4046-d8f7-cff4ba01a858"
      },
      "execution_count": null,
      "outputs": [
        {
          "output_type": "execute_result",
          "data": {
            "text/plain": [
              "((5600, 28), (5600,), (1400, 28), (1400,), (500, 28), (500,))"
            ]
          },
          "metadata": {},
          "execution_count": 6
        }
      ]
    },
    {
      "cell_type": "code",
      "source": [
        "# Create datasets for LightGBM\n",
        "rank_train = lgb.Dataset(rank_X_train, rank_y_train, group=q_train)\n",
        "rank_valid = lgb.Dataset(rank_X_valid, rank_y_valid, reference=rank_train, group=q_valid)\n",
        "\n",
        "class_train = lgb.Dataset(class_X_train, label=class_y_train)\n",
        "class_valid = lgb.Dataset(class_X_valid, label=class_y_valid)"
      ],
      "metadata": {
        "id": "K-69fn-vjlY2"
      },
      "execution_count": null,
      "outputs": []
    },
    {
      "cell_type": "markdown",
      "source": [
        "###LightGBM Trainer"
      ],
      "metadata": {
        "id": "uabmuR-Roh-D"
      }
    },
    {
      "cell_type": "code",
      "source": [
        "# LightGBM parameters for ranking dataset\n",
        "rank_params = {\n",
        "    'objective': 'lambdarank',\n",
        "    'metric': 'ndcg',\n",
        "    'boosting_type': 'gbdt',\n",
        "    'ndcg_eval_at': 10,\n",
        "    'max_bin': 255,\n",
        "    'num_leaves': 255,\n",
        "    'random_state': 42,\n",
        "    'feature_fraction': 0.5,\n",
        "    'bagging_fraction': 0.5,\n",
        "    'bagging_freq': 20,\n",
        "    'learning_rate': 0.01,\n",
        "    'verbose': -1\n",
        "}"
      ],
      "metadata": {
        "id": "LP6ciVSjkKGY"
      },
      "execution_count": null,
      "outputs": []
    },
    {
      "cell_type": "code",
      "source": [
        "%%time\n",
        "# Create LightGBM model for ranking dataset\n",
        "rank_lgbmodel = lgb.train(\n",
        "    rank_params, rank_train, valid_sets=rank_valid, early_stopping_rounds=50)"
      ],
      "metadata": {
        "colab": {
          "base_uri": "https://localhost:8080/"
        },
        "id": "9K6B8G9sn7mB",
        "outputId": "f1a21160-6264-4bc8-fb16-6782786d6bc9"
      },
      "execution_count": null,
      "outputs": [
        {
          "output_type": "stream",
          "name": "stdout",
          "text": [
            "[1]\tvalid_0's ndcg@10: 0.698063\n",
            "Training until validation scores don't improve for 50 rounds.\n",
            "[2]\tvalid_0's ndcg@10: 0.755844\n",
            "[3]\tvalid_0's ndcg@10: 0.759158\n",
            "[4]\tvalid_0's ndcg@10: 0.776628\n",
            "[5]\tvalid_0's ndcg@10: 0.777835\n",
            "[6]\tvalid_0's ndcg@10: 0.780509\n",
            "[7]\tvalid_0's ndcg@10: 0.774211\n",
            "[8]\tvalid_0's ndcg@10: 0.780412\n",
            "[9]\tvalid_0's ndcg@10: 0.774488\n",
            "[10]\tvalid_0's ndcg@10: 0.779807\n",
            "[11]\tvalid_0's ndcg@10: 0.782879\n",
            "[12]\tvalid_0's ndcg@10: 0.786288\n",
            "[13]\tvalid_0's ndcg@10: 0.778132\n",
            "[14]\tvalid_0's ndcg@10: 0.779591\n",
            "[15]\tvalid_0's ndcg@10: 0.778939\n",
            "[16]\tvalid_0's ndcg@10: 0.780631\n",
            "[17]\tvalid_0's ndcg@10: 0.781085\n",
            "[18]\tvalid_0's ndcg@10: 0.774346\n",
            "[19]\tvalid_0's ndcg@10: 0.776686\n",
            "[20]\tvalid_0's ndcg@10: 0.771888\n",
            "[21]\tvalid_0's ndcg@10: 0.775118\n",
            "[22]\tvalid_0's ndcg@10: 0.775464\n",
            "[23]\tvalid_0's ndcg@10: 0.77226\n",
            "[24]\tvalid_0's ndcg@10: 0.772024\n",
            "[25]\tvalid_0's ndcg@10: 0.775669\n",
            "[26]\tvalid_0's ndcg@10: 0.775867\n",
            "[27]\tvalid_0's ndcg@10: 0.776637\n",
            "[28]\tvalid_0's ndcg@10: 0.779425\n",
            "[29]\tvalid_0's ndcg@10: 0.779646\n",
            "[30]\tvalid_0's ndcg@10: 0.782099\n",
            "[31]\tvalid_0's ndcg@10: 0.780841\n",
            "[32]\tvalid_0's ndcg@10: 0.786609\n",
            "[33]\tvalid_0's ndcg@10: 0.783614\n",
            "[34]\tvalid_0's ndcg@10: 0.779948\n",
            "[35]\tvalid_0's ndcg@10: 0.782028\n",
            "[36]\tvalid_0's ndcg@10: 0.779507\n",
            "[37]\tvalid_0's ndcg@10: 0.774804\n",
            "[38]\tvalid_0's ndcg@10: 0.779516\n",
            "[39]\tvalid_0's ndcg@10: 0.78254\n",
            "[40]\tvalid_0's ndcg@10: 0.783412\n",
            "[41]\tvalid_0's ndcg@10: 0.785525\n",
            "[42]\tvalid_0's ndcg@10: 0.785052\n",
            "[43]\tvalid_0's ndcg@10: 0.785615\n",
            "[44]\tvalid_0's ndcg@10: 0.783599\n",
            "[45]\tvalid_0's ndcg@10: 0.78403\n",
            "[46]\tvalid_0's ndcg@10: 0.780308\n",
            "[47]\tvalid_0's ndcg@10: 0.778771\n",
            "[48]\tvalid_0's ndcg@10: 0.770815\n",
            "[49]\tvalid_0's ndcg@10: 0.772706\n",
            "[50]\tvalid_0's ndcg@10: 0.774405\n",
            "[51]\tvalid_0's ndcg@10: 0.770704\n",
            "[52]\tvalid_0's ndcg@10: 0.771794\n",
            "[53]\tvalid_0's ndcg@10: 0.769847\n",
            "[54]\tvalid_0's ndcg@10: 0.766033\n",
            "[55]\tvalid_0's ndcg@10: 0.768009\n",
            "[56]\tvalid_0's ndcg@10: 0.769375\n",
            "[57]\tvalid_0's ndcg@10: 0.769018\n",
            "[58]\tvalid_0's ndcg@10: 0.770758\n",
            "[59]\tvalid_0's ndcg@10: 0.773115\n",
            "[60]\tvalid_0's ndcg@10: 0.778794\n",
            "[61]\tvalid_0's ndcg@10: 0.777831\n",
            "[62]\tvalid_0's ndcg@10: 0.779022\n",
            "[63]\tvalid_0's ndcg@10: 0.774119\n",
            "[64]\tvalid_0's ndcg@10: 0.774913\n",
            "[65]\tvalid_0's ndcg@10: 0.76717\n",
            "[66]\tvalid_0's ndcg@10: 0.763258\n",
            "[67]\tvalid_0's ndcg@10: 0.762658\n",
            "[68]\tvalid_0's ndcg@10: 0.765802\n",
            "[69]\tvalid_0's ndcg@10: 0.766065\n",
            "[70]\tvalid_0's ndcg@10: 0.767063\n",
            "[71]\tvalid_0's ndcg@10: 0.767687\n",
            "[72]\tvalid_0's ndcg@10: 0.769879\n",
            "[73]\tvalid_0's ndcg@10: 0.771335\n",
            "[74]\tvalid_0's ndcg@10: 0.770821\n",
            "[75]\tvalid_0's ndcg@10: 0.773329\n",
            "[76]\tvalid_0's ndcg@10: 0.773575\n",
            "[77]\tvalid_0's ndcg@10: 0.769609\n",
            "[78]\tvalid_0's ndcg@10: 0.769967\n",
            "[79]\tvalid_0's ndcg@10: 0.770127\n",
            "[80]\tvalid_0's ndcg@10: 0.773029\n",
            "[81]\tvalid_0's ndcg@10: 0.769959\n",
            "[82]\tvalid_0's ndcg@10: 0.771528\n",
            "Early stopping, best iteration is:\n",
            "[32]\tvalid_0's ndcg@10: 0.786609\n",
            "CPU times: user 840 ms, sys: 69.1 ms, total: 909 ms\n",
            "Wall time: 502 ms\n"
          ]
        }
      ]
    },
    {
      "cell_type": "code",
      "source": [
        "# LightGBM parameters for classification dataset\n",
        "class_params = {\n",
        "    'objective': 'binary',\n",
        "    'metric': 'auc',\n",
        "    'boosting_type': 'gbdt',\n",
        "    'is_unbalanced': 'true',\n",
        "    'max_bin': 255,\n",
        "    'num_leaves': 255,\n",
        "    'random_state': 42,\n",
        "    'feature_fraction': 0.5,\n",
        "    'bagging_fraction': 0.5,\n",
        "    'bagging_freq': 20,\n",
        "    'learning_rate': 0.01,\n",
        "    'verbose': -1\n",
        "}"
      ],
      "metadata": {
        "id": "5ZI54fMwyjru"
      },
      "execution_count": null,
      "outputs": []
    },
    {
      "cell_type": "code",
      "source": [
        "%%time\n",
        "# Create LightGBM model for classification dataset\n",
        "class_lgbmodel = lgb.train(\n",
        "    class_params, class_train, valid_sets=class_valid, early_stopping_rounds=50)"
      ],
      "metadata": {
        "colab": {
          "base_uri": "https://localhost:8080/"
        },
        "id": "MuRXKPq1xrSG",
        "outputId": "a45e5227-c2fb-42bc-d774-00f44891675f"
      },
      "execution_count": null,
      "outputs": [
        {
          "output_type": "stream",
          "name": "stdout",
          "text": [
            "[1]\tvalid_0's auc: 0.634477\n",
            "Training until validation scores don't improve for 50 rounds.\n",
            "[2]\tvalid_0's auc: 0.653484\n",
            "[3]\tvalid_0's auc: 0.686039\n",
            "[4]\tvalid_0's auc: 0.694799\n",
            "[5]\tvalid_0's auc: 0.693691\n",
            "[6]\tvalid_0's auc: 0.690913\n",
            "[7]\tvalid_0's auc: 0.691209\n",
            "[8]\tvalid_0's auc: 0.693391\n",
            "[9]\tvalid_0's auc: 0.706425\n",
            "[10]\tvalid_0's auc: 0.709195\n",
            "[11]\tvalid_0's auc: 0.708533\n",
            "[12]\tvalid_0's auc: 0.717239\n",
            "[13]\tvalid_0's auc: 0.720326\n",
            "[14]\tvalid_0's auc: 0.720972\n",
            "[15]\tvalid_0's auc: 0.723549\n",
            "[16]\tvalid_0's auc: 0.723232\n",
            "[17]\tvalid_0's auc: 0.722717\n",
            "[18]\tvalid_0's auc: 0.72125\n",
            "[19]\tvalid_0's auc: 0.722899\n",
            "[20]\tvalid_0's auc: 0.721369\n",
            "[21]\tvalid_0's auc: 0.724665\n",
            "[22]\tvalid_0's auc: 0.727516\n",
            "[23]\tvalid_0's auc: 0.730668\n",
            "[24]\tvalid_0's auc: 0.731755\n",
            "[25]\tvalid_0's auc: 0.73205\n",
            "[26]\tvalid_0's auc: 0.73576\n",
            "[27]\tvalid_0's auc: 0.739185\n",
            "[28]\tvalid_0's auc: 0.737405\n",
            "[29]\tvalid_0's auc: 0.741439\n",
            "[30]\tvalid_0's auc: 0.739312\n",
            "[31]\tvalid_0's auc: 0.738699\n",
            "[32]\tvalid_0's auc: 0.736778\n",
            "[33]\tvalid_0's auc: 0.735994\n",
            "[34]\tvalid_0's auc: 0.735662\n",
            "[35]\tvalid_0's auc: 0.736511\n",
            "[36]\tvalid_0's auc: 0.736888\n",
            "[37]\tvalid_0's auc: 0.737805\n",
            "[38]\tvalid_0's auc: 0.738933\n",
            "[39]\tvalid_0's auc: 0.740748\n",
            "[40]\tvalid_0's auc: 0.741095\n",
            "[41]\tvalid_0's auc: 0.742407\n",
            "[42]\tvalid_0's auc: 0.742042\n",
            "[43]\tvalid_0's auc: 0.743648\n",
            "[44]\tvalid_0's auc: 0.742471\n",
            "[45]\tvalid_0's auc: 0.742311\n",
            "[46]\tvalid_0's auc: 0.742061\n",
            "[47]\tvalid_0's auc: 0.742895\n",
            "[48]\tvalid_0's auc: 0.743472\n",
            "[49]\tvalid_0's auc: 0.743383\n",
            "[50]\tvalid_0's auc: 0.743439\n",
            "[51]\tvalid_0's auc: 0.744407\n",
            "[52]\tvalid_0's auc: 0.743896\n",
            "[53]\tvalid_0's auc: 0.745239\n",
            "[54]\tvalid_0's auc: 0.74528\n",
            "[55]\tvalid_0's auc: 0.746509\n",
            "[56]\tvalid_0's auc: 0.747052\n",
            "[57]\tvalid_0's auc: 0.746919\n",
            "[58]\tvalid_0's auc: 0.747315\n",
            "[59]\tvalid_0's auc: 0.748601\n",
            "[60]\tvalid_0's auc: 0.748691\n",
            "[61]\tvalid_0's auc: 0.748318\n",
            "[62]\tvalid_0's auc: 0.748572\n",
            "[63]\tvalid_0's auc: 0.748677\n",
            "[64]\tvalid_0's auc: 0.748712\n",
            "[65]\tvalid_0's auc: 0.748406\n",
            "[66]\tvalid_0's auc: 0.748418\n",
            "[67]\tvalid_0's auc: 0.74792\n",
            "[68]\tvalid_0's auc: 0.747713\n",
            "[69]\tvalid_0's auc: 0.74712\n",
            "[70]\tvalid_0's auc: 0.747914\n",
            "[71]\tvalid_0's auc: 0.747247\n",
            "[72]\tvalid_0's auc: 0.747221\n",
            "[73]\tvalid_0's auc: 0.747399\n",
            "[74]\tvalid_0's auc: 0.747022\n",
            "[75]\tvalid_0's auc: 0.746983\n",
            "[76]\tvalid_0's auc: 0.74689\n",
            "[77]\tvalid_0's auc: 0.746767\n",
            "[78]\tvalid_0's auc: 0.747321\n",
            "[79]\tvalid_0's auc: 0.747608\n",
            "[80]\tvalid_0's auc: 0.747528\n",
            "[81]\tvalid_0's auc: 0.749095\n",
            "[82]\tvalid_0's auc: 0.749819\n",
            "[83]\tvalid_0's auc: 0.750342\n",
            "[84]\tvalid_0's auc: 0.750678\n",
            "[85]\tvalid_0's auc: 0.75034\n",
            "[86]\tvalid_0's auc: 0.75028\n",
            "[87]\tvalid_0's auc: 0.750428\n",
            "[88]\tvalid_0's auc: 0.750174\n",
            "[89]\tvalid_0's auc: 0.750584\n",
            "[90]\tvalid_0's auc: 0.750389\n",
            "[91]\tvalid_0's auc: 0.751189\n",
            "[92]\tvalid_0's auc: 0.75097\n",
            "[93]\tvalid_0's auc: 0.751704\n",
            "[94]\tvalid_0's auc: 0.751872\n",
            "[95]\tvalid_0's auc: 0.75186\n",
            "[96]\tvalid_0's auc: 0.752403\n",
            "[97]\tvalid_0's auc: 0.752639\n",
            "[98]\tvalid_0's auc: 0.752227\n",
            "[99]\tvalid_0's auc: 0.751665\n",
            "[100]\tvalid_0's auc: 0.751454\n",
            "Did not meet early stopping. Best iteration is:\n",
            "[97]\tvalid_0's auc: 0.752639\n",
            "CPU times: user 1.38 s, sys: 22.6 ms, total: 1.41 s\n",
            "Wall time: 723 ms\n"
          ]
        }
      ]
    },
    {
      "cell_type": "code",
      "source": [
        "# Measure LightGBM performance\n",
        "rank_pred = rank_lgbmodel.predict(rank_X_test)\n",
        "pred_df = pd.DataFrame({\n",
        "    \"query_id\": np.repeat(np.arange(q_test.shape[0]), q_test.astype(np.int)),\n",
        "    \"pred\": rank_pred,\n",
        "    \"true\": rank_y_test,\n",
        "})\n",
        "\n",
        "class_y_pred = class_lgbmodel.predict(class_X_test)\n",
        "\n",
        "print(\"Ranking NDCG Test: {:.4f}\\nClassification AUC Test: {:.4f}\".format(pred_df.groupby(\"query_id\").apply(\n",
        "    lambda d: ndcg_score([d[\"true\"]], [d[\"pred\"]], k=10)).mean(), roc_auc_score(class_y_test, class_y_pred)))"
      ],
      "metadata": {
        "colab": {
          "base_uri": "https://localhost:8080/"
        },
        "id": "qHKUn7bD7tci",
        "outputId": "b9ce581d-b6f9-4c25-daf0-9486dcab52be"
      },
      "execution_count": null,
      "outputs": [
        {
          "output_type": "stream",
          "name": "stdout",
          "text": [
            "Ranking NDCG Test: 0.7555\n",
            "Classification AUC Test: 0.8134\n"
          ]
        },
        {
          "output_type": "stream",
          "name": "stderr",
          "text": [
            "/usr/local/lib/python3.7/dist-packages/ipykernel_launcher.py:4: DeprecationWarning: `np.int` is a deprecated alias for the builtin `int`. To silence this warning, use `int` by itself. Doing this will not modify any behavior and is safe. When replacing `np.int`, you may wish to use e.g. `np.int64` or `np.int32` to specify the precision. If you wish to review your current use, check the release note link for additional information.\n",
            "Deprecated in NumPy 1.20; for more details and guidance: https://numpy.org/devdocs/release/1.20.0-notes.html#deprecations\n",
            "  after removing the cwd from sys.path.\n"
          ]
        }
      ]
    },
    {
      "cell_type": "markdown",
      "source": [
        "###XGBoost Trainer"
      ],
      "metadata": {
        "id": "HsdCVwyIqu6q"
      }
    },
    {
      "cell_type": "code",
      "source": [
        "# XGBoost parameters for ranking dataset\n",
        "rank_xgbmodel = xgb.XGBRanker(  \n",
        "    booster='gbtree',\n",
        "    objective='rank:pairwise',\n",
        "    random_state=42, \n",
        "    eta=0.01,\n",
        "    colsample_bytree=0.5, \n",
        "    max_depth=8,  \n",
        "    subsample=0.5\n",
        "    )\n",
        "\n",
        "q_train_all = q_train_all.astype('int')"
      ],
      "metadata": {
        "id": "vIeJRjDhu-Af"
      },
      "execution_count": null,
      "outputs": []
    },
    {
      "cell_type": "code",
      "source": [
        "%%time\n",
        "#Create XGBoost (histogram-based) model for ranking dataset\n",
        "rank_xgbmodel.fit(rank_X_train_all, rank_y_train_all, group=q_train_all, verbose=True)"
      ],
      "metadata": {
        "colab": {
          "base_uri": "https://localhost:8080/"
        },
        "id": "eFQitHHz0KF2",
        "outputId": "0911ba05-f4c5-4759-c059-e9b6a87415a8"
      },
      "execution_count": null,
      "outputs": [
        {
          "output_type": "stream",
          "name": "stdout",
          "text": [
            "CPU times: user 4.43 s, sys: 12 ms, total: 4.44 s\n",
            "Wall time: 2.39 s\n"
          ]
        },
        {
          "output_type": "execute_result",
          "data": {
            "text/plain": [
              "XGBRanker(colsample_bytree=0.5, eta=0.01, max_depth=8, random_state=42,\n",
              "          subsample=0.5)"
            ]
          },
          "metadata": {},
          "execution_count": 15
        }
      ]
    },
    {
      "cell_type": "code",
      "source": [
        "# XGBoost parameters for classfication dataset\n",
        "class_xgbmodel = xgb.XGBClassifier(  \n",
        "    booster='gbtree',\n",
        "    random_state=42, \n",
        "    eta=0.01,\n",
        "    colsample_bytree=0.5, \n",
        "    max_depth=8,  \n",
        "    subsample=0.5\n",
        "    )"
      ],
      "metadata": {
        "id": "c88rzJHLzUyF"
      },
      "execution_count": null,
      "outputs": []
    },
    {
      "cell_type": "code",
      "source": [
        "%%time\n",
        "#Create XGBoost (histogram-based) model for classification dataset\n",
        "class_xgbmodel.fit(class_X_train, class_y_train)"
      ],
      "metadata": {
        "colab": {
          "base_uri": "https://localhost:8080/"
        },
        "id": "2SZ4KbnMziox",
        "outputId": "faec5337-93ab-47ac-df4f-c753a40bc20d"
      },
      "execution_count": null,
      "outputs": [
        {
          "output_type": "stream",
          "name": "stdout",
          "text": [
            "CPU times: user 1.56 s, sys: 6.7 ms, total: 1.56 s\n",
            "Wall time: 1.56 s\n"
          ]
        },
        {
          "output_type": "execute_result",
          "data": {
            "text/plain": [
              "XGBClassifier(colsample_bytree=0.5, eta=0.01, max_depth=8, random_state=42,\n",
              "              subsample=0.5)"
            ]
          },
          "metadata": {},
          "execution_count": 19
        }
      ]
    },
    {
      "cell_type": "code",
      "source": [
        "# Measure XGBoost performance\n",
        "rank_pred1 = rank_xgbmodel.predict(rank_X_test)\n",
        "pred_df1 = pd.DataFrame({\n",
        "    \"query_id\": np.repeat(np.arange(q_test.shape[0]), q_test.astype(np.int)),\n",
        "    \"pred\": rank_pred1,\n",
        "    \"true\": rank_y_test,\n",
        "})\n",
        "\n",
        "class_y_pred1 = class_xgbmodel.predict(class_X_test)\n",
        "\n",
        "print(\"Ranking NDCG Test: {:.4f}\\nClassification AUC Test: {:.4f}\".format(pred_df1.groupby(\"query_id\").apply(\n",
        "    lambda d: ndcg_score([d[\"true\"]], [d[\"pred\"]], k=10)).mean(), roc_auc_score(class_y_test, class_y_pred1)))"
      ],
      "metadata": {
        "colab": {
          "base_uri": "https://localhost:8080/"
        },
        "id": "w-rSiNZ17n8p",
        "outputId": "2ff82d22-fcad-4d3e-f653-d8bd68485dc6"
      },
      "execution_count": null,
      "outputs": [
        {
          "output_type": "stream",
          "name": "stdout",
          "text": [
            "Ranking NDCG Test: 0.7756\n",
            "Classification AUC Test: 0.7357\n"
          ]
        },
        {
          "output_type": "stream",
          "name": "stderr",
          "text": [
            "/usr/local/lib/python3.7/dist-packages/ipykernel_launcher.py:4: DeprecationWarning: `np.int` is a deprecated alias for the builtin `int`. To silence this warning, use `int` by itself. Doing this will not modify any behavior and is safe. When replacing `np.int`, you may wish to use e.g. `np.int64` or `np.int32` to specify the precision. If you wish to review your current use, check the release note link for additional information.\n",
            "Deprecated in NumPy 1.20; for more details and guidance: https://numpy.org/devdocs/release/1.20.0-notes.html#deprecations\n",
            "  after removing the cwd from sys.path.\n"
          ]
        }
      ]
    }
  ]
}